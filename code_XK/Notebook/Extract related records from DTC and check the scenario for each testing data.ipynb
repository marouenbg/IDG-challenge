{
 "cells": [
  {
   "cell_type": "code",
   "execution_count": 1,
   "metadata": {},
   "outputs": [],
   "source": [
    "import pandas as pd\n",
    "import matplotlib\n",
    "import matplotlib.pyplot as plt\n",
    "from tqdm import tqdm\n",
    "%matplotlib inline\n",
    "\n",
    "from paths import path_out_data, path_data"
   ]
  },
  {
   "cell_type": "code",
   "execution_count": 2,
   "metadata": {},
   "outputs": [
    {
     "name": "stderr",
     "output_type": "stream",
     "text": [
      "/home/wxk/anaconda3/envs/IDG/lib/python3.4/site-packages/IPython/core/interactiveshell.py:2785: DtypeWarning: Columns (1) have mixed types. Specify dtype option on import or set low_memory=False.\n",
      "  interactivity=interactivity, compiler=compiler, result=result)\n"
     ]
    }
   ],
   "source": [
    "#read in the DTC data and test data\n",
    "file_DTC = \"DtcDrugTargetInteractions.csv\"\n",
    "file_test = \"round_1_template.csv\"\n",
    "columns_related = ['standard_inchi_key', 'target_id', 'standard_type', \n",
    "                    'standard_value', 'standard_units']\n",
    "\n",
    "DTC = pd.read_csv(\"%s/%s\"%(path_data,file_DTC),usecols= columns_related)\n",
    "data_test = pd.read_csv(\"%s/%s\"%(path_data,file_test))"
   ]
  },
  {
   "cell_type": "code",
   "execution_count": 3,
   "metadata": {},
   "outputs": [],
   "source": [
    "# slice the rows that have a kd measured in \"NM\" unit\n",
    "#the merge replicate by taking the average\n",
    "mask_KD = DTC.standard_type.apply(lambda x: x in set([\"Kd\", \"KD\",\"KDAPP\"]))\n",
    "mask_KD_value = ~ DTC.standard_value.isna()\n",
    "mask_KD_unit = DTC.standard_units == \"NM\"\n",
    "\n",
    "mask_KD = mask_KD & mask_KD_value  & mask_KD_unit\n",
    "\n",
    "DTC_kd = DTC[mask_KD].groupby(by=[\"standard_inchi_key\",\"target_id\"])['standard_value'].mean().reset_index()"
   ]
  },
  {
   "cell_type": "code",
   "execution_count": 4,
   "metadata": {},
   "outputs": [
    {
     "data": {
      "text/html": [
       "<div>\n",
       "<style scoped>\n",
       "    .dataframe tbody tr th:only-of-type {\n",
       "        vertical-align: middle;\n",
       "    }\n",
       "\n",
       "    .dataframe tbody tr th {\n",
       "        vertical-align: top;\n",
       "    }\n",
       "\n",
       "    .dataframe thead th {\n",
       "        text-align: right;\n",
       "    }\n",
       "</style>\n",
       "<table border=\"1\" class=\"dataframe\">\n",
       "  <thead>\n",
       "    <tr style=\"text-align: right;\">\n",
       "      <th></th>\n",
       "      <th>standard_inchi_key</th>\n",
       "      <th>target_id</th>\n",
       "      <th>standard_value</th>\n",
       "    </tr>\n",
       "  </thead>\n",
       "  <tbody>\n",
       "    <tr>\n",
       "      <th>0</th>\n",
       "      <td>AAAKPBKWFMPTSQ-UHFFFAOYSA-N</td>\n",
       "      <td>P00374</td>\n",
       "      <td>2077.372727</td>\n",
       "    </tr>\n",
       "    <tr>\n",
       "      <th>1</th>\n",
       "      <td>AAAQFGUYHFJNHI-SFHVURJKSA-N</td>\n",
       "      <td>O60885</td>\n",
       "      <td>68.533333</td>\n",
       "    </tr>\n",
       "    <tr>\n",
       "      <th>2</th>\n",
       "      <td>AAAQFGUYHFJNHI-SFHVURJKSA-N</td>\n",
       "      <td>P25440</td>\n",
       "      <td>116.116667</td>\n",
       "    </tr>\n",
       "    <tr>\n",
       "      <th>3</th>\n",
       "      <td>AAAQFGUYHFJNHI-SFHVURJKSA-N</td>\n",
       "      <td>Q15059</td>\n",
       "      <td>60.225000</td>\n",
       "    </tr>\n",
       "    <tr>\n",
       "      <th>4</th>\n",
       "      <td>AAAQFGUYHFJNHI-SFHVURJKSA-N</td>\n",
       "      <td>Q6PL18</td>\n",
       "      <td>10000.000000</td>\n",
       "    </tr>\n",
       "  </tbody>\n",
       "</table>\n",
       "</div>"
      ],
      "text/plain": [
       "            standard_inchi_key target_id  standard_value\n",
       "0  AAAKPBKWFMPTSQ-UHFFFAOYSA-N    P00374     2077.372727\n",
       "1  AAAQFGUYHFJNHI-SFHVURJKSA-N    O60885       68.533333\n",
       "2  AAAQFGUYHFJNHI-SFHVURJKSA-N    P25440      116.116667\n",
       "3  AAAQFGUYHFJNHI-SFHVURJKSA-N    Q15059       60.225000\n",
       "4  AAAQFGUYHFJNHI-SFHVURJKSA-N    Q6PL18    10000.000000"
      ]
     },
     "execution_count": 4,
     "metadata": {},
     "output_type": "execute_result"
    }
   ],
   "source": [
    "DTC_kd.head()"
   ]
  },
  {
   "cell_type": "code",
   "execution_count": 5,
   "metadata": {},
   "outputs": [],
   "source": [
    "# find all the measured bioacivity \n",
    "type_counts = DTC.standard_type.value_counts()\n",
    "terms = type_counts[type_counts > DTC_kd.shape[0]].index[:-1] # the last one is KD"
   ]
  },
  {
   "cell_type": "code",
   "execution_count": 6,
   "metadata": {},
   "outputs": [
    {
     "name": "stderr",
     "output_type": "stream",
     "text": [
      "100%|██████████| 7/7 [00:08<00:00,  1.10s/it]\n"
     ]
    }
   ],
   "source": [
    "#merge other bioactivity with kd by the standard_inchi_ky and target_id\n",
    "pbar = tqdm(enumerate(terms), total = len(terms))\n",
    "\n",
    "for i, term in pbar:\n",
    "    if term not in set(['Kd','KD','KDAPP']):\n",
    "       mask = DTC.standard_type.apply(lambda x: x==term)\n",
    "       DTC_other  = DTC[mask].groupby(by=[\"standard_inchi_key\",\"target_id\"])['standard_value'].mean().reset_index()\n",
    "       DTC_kd = pd.merge(DTC_kd,DTC_other, how = 'left', left_on= [\"standard_inchi_key\",\"target_id\"],\n",
    "                 right_on = [\"standard_inchi_key\",\"target_id\"])\n"
   ]
  },
  {
   "cell_type": "code",
   "execution_count": 7,
   "metadata": {},
   "outputs": [
    {
     "data": {
      "text/html": [
       "<div>\n",
       "<style scoped>\n",
       "    .dataframe tbody tr th:only-of-type {\n",
       "        vertical-align: middle;\n",
       "    }\n",
       "\n",
       "    .dataframe tbody tr th {\n",
       "        vertical-align: top;\n",
       "    }\n",
       "\n",
       "    .dataframe thead th {\n",
       "        text-align: right;\n",
       "    }\n",
       "</style>\n",
       "<table border=\"1\" class=\"dataframe\">\n",
       "  <thead>\n",
       "    <tr style=\"text-align: right;\">\n",
       "      <th></th>\n",
       "      <th>standard_inchi_key</th>\n",
       "      <th>target_id</th>\n",
       "      <th>standard_value_x</th>\n",
       "      <th>standard_value_y</th>\n",
       "      <th>standard_value_x</th>\n",
       "      <th>standard_value_y</th>\n",
       "      <th>standard_value_x</th>\n",
       "      <th>standard_value_y</th>\n",
       "      <th>standard_value_x</th>\n",
       "      <th>standard_value_y</th>\n",
       "    </tr>\n",
       "  </thead>\n",
       "  <tbody>\n",
       "    <tr>\n",
       "      <th>0</th>\n",
       "      <td>AAAKPBKWFMPTSQ-UHFFFAOYSA-N</td>\n",
       "      <td>P00374</td>\n",
       "      <td>2077.372727</td>\n",
       "      <td>NaN</td>\n",
       "      <td>NaN</td>\n",
       "      <td>NaN</td>\n",
       "      <td>NaN</td>\n",
       "      <td>NaN</td>\n",
       "      <td>NaN</td>\n",
       "      <td>NaN</td>\n",
       "    </tr>\n",
       "    <tr>\n",
       "      <th>1</th>\n",
       "      <td>AAAQFGUYHFJNHI-SFHVURJKSA-N</td>\n",
       "      <td>O60885</td>\n",
       "      <td>68.533333</td>\n",
       "      <td>NaN</td>\n",
       "      <td>232.273846</td>\n",
       "      <td>35.55</td>\n",
       "      <td>NaN</td>\n",
       "      <td>NaN</td>\n",
       "      <td>NaN</td>\n",
       "      <td>NaN</td>\n",
       "    </tr>\n",
       "    <tr>\n",
       "      <th>2</th>\n",
       "      <td>AAAQFGUYHFJNHI-SFHVURJKSA-N</td>\n",
       "      <td>P25440</td>\n",
       "      <td>116.116667</td>\n",
       "      <td>NaN</td>\n",
       "      <td>363.000000</td>\n",
       "      <td>53.00</td>\n",
       "      <td>NaN</td>\n",
       "      <td>NaN</td>\n",
       "      <td>NaN</td>\n",
       "      <td>NaN</td>\n",
       "    </tr>\n",
       "    <tr>\n",
       "      <th>3</th>\n",
       "      <td>AAAQFGUYHFJNHI-SFHVURJKSA-N</td>\n",
       "      <td>Q15059</td>\n",
       "      <td>60.225000</td>\n",
       "      <td>NaN</td>\n",
       "      <td>206.960000</td>\n",
       "      <td>42.10</td>\n",
       "      <td>NaN</td>\n",
       "      <td>NaN</td>\n",
       "      <td>NaN</td>\n",
       "      <td>NaN</td>\n",
       "    </tr>\n",
       "    <tr>\n",
       "      <th>4</th>\n",
       "      <td>AAAQFGUYHFJNHI-SFHVURJKSA-N</td>\n",
       "      <td>Q6PL18</td>\n",
       "      <td>10000.000000</td>\n",
       "      <td>NaN</td>\n",
       "      <td>NaN</td>\n",
       "      <td>NaN</td>\n",
       "      <td>NaN</td>\n",
       "      <td>NaN</td>\n",
       "      <td>NaN</td>\n",
       "      <td>NaN</td>\n",
       "    </tr>\n",
       "  </tbody>\n",
       "</table>\n",
       "</div>"
      ],
      "text/plain": [
       "            standard_inchi_key target_id  standard_value_x  standard_value_y  \\\n",
       "0  AAAKPBKWFMPTSQ-UHFFFAOYSA-N    P00374       2077.372727               NaN   \n",
       "1  AAAQFGUYHFJNHI-SFHVURJKSA-N    O60885         68.533333               NaN   \n",
       "2  AAAQFGUYHFJNHI-SFHVURJKSA-N    P25440        116.116667               NaN   \n",
       "3  AAAQFGUYHFJNHI-SFHVURJKSA-N    Q15059         60.225000               NaN   \n",
       "4  AAAQFGUYHFJNHI-SFHVURJKSA-N    Q6PL18      10000.000000               NaN   \n",
       "\n",
       "   standard_value_x  standard_value_y  standard_value_x  standard_value_y  \\\n",
       "0               NaN               NaN               NaN               NaN   \n",
       "1        232.273846             35.55               NaN               NaN   \n",
       "2        363.000000             53.00               NaN               NaN   \n",
       "3        206.960000             42.10               NaN               NaN   \n",
       "4               NaN               NaN               NaN               NaN   \n",
       "\n",
       "   standard_value_x  standard_value_y  \n",
       "0               NaN               NaN  \n",
       "1               NaN               NaN  \n",
       "2               NaN               NaN  \n",
       "3               NaN               NaN  \n",
       "4               NaN               NaN  "
      ]
     },
     "execution_count": 7,
     "metadata": {},
     "output_type": "execute_result"
    }
   ],
   "source": [
    "DTC_kd.head()"
   ]
  },
  {
   "cell_type": "code",
   "execution_count": 8,
   "metadata": {
    "scrolled": true
   },
   "outputs": [],
   "source": [
    "DTC_kd.columns =  ['standard_inchi_key', 'target_id',\"Kd\"] + list(terms)"
   ]
  },
  {
   "cell_type": "code",
   "execution_count": 9,
   "metadata": {
    "scrolled": true
   },
   "outputs": [
    {
     "data": {
      "text/plain": [
       "[0.0,\n",
       " 0.0,\n",
       " 0.0,\n",
       " 0.8640935450137845,\n",
       " 0.8858446620401179,\n",
       " 0.9186234432930886,\n",
       " 0.9761003897708908,\n",
       " 0.9810818518870615,\n",
       " 0.9979085464397757,\n",
       " 0.9996767753588744]"
      ]
     },
     "execution_count": 9,
     "metadata": {},
     "output_type": "execute_result"
    }
   ],
   "source": [
    "# check the completeness of the each column\n",
    "ratios = DTC_kd.isnull().sum(axis = 0)/float(DTC_kd.shape[0])\n",
    "ratios = list(ratios)\n",
    "ratios.sort()\n",
    "ratios"
   ]
  },
  {
   "cell_type": "code",
   "execution_count": 10,
   "metadata": {},
   "outputs": [],
   "source": [
    "#save kd only as other bioactivity is missing for most reacords (more than 86%)\n",
    "DTC_kd.iloc[:,:3].to_csv(path_out_data+\"/DTC_train.csv\",index = False)"
   ]
  },
  {
   "cell_type": "code",
   "execution_count": 11,
   "metadata": {},
   "outputs": [],
   "source": [
    "# a helper function to check the scenario for each record in the testing\n",
    "\n",
    "k_u_d = set(DTC_kd.standard_inchi_key.unique()) # k_u_d: key_unique_DTC\n",
    "p_u_d = set(DTC_kd.target_id.unique())          #p_u_d: protein_unique_DTC\n",
    "\n",
    "def test_scenario(x):\n",
    "    b1 = x.Compound_InchiKeys in k_u_d # b1: boolean 1\n",
    "    b2 = x.UniProt_Id in p_u_d\n",
    "    if b1:\n",
    "        if b2:\n",
    "            return 1\n",
    "        else:\n",
    "            return 3\n",
    "    else:\n",
    "        if b2:\n",
    "            return 2\n",
    "        else:\n",
    "            return 4"
   ]
  },
  {
   "cell_type": "code",
   "execution_count": 12,
   "metadata": {},
   "outputs": [],
   "source": [
    "data_test[\"scenario\"] = data_test.apply(test_scenario, axis = 1)"
   ]
  },
  {
   "cell_type": "code",
   "execution_count": 13,
   "metadata": {
    "scrolled": true
   },
   "outputs": [
    {
     "data": {
      "text/html": [
       "<div>\n",
       "<style scoped>\n",
       "    .dataframe tbody tr th:only-of-type {\n",
       "        vertical-align: middle;\n",
       "    }\n",
       "\n",
       "    .dataframe tbody tr th {\n",
       "        vertical-align: top;\n",
       "    }\n",
       "\n",
       "    .dataframe thead th {\n",
       "        text-align: right;\n",
       "    }\n",
       "</style>\n",
       "<table border=\"1\" class=\"dataframe\">\n",
       "  <thead>\n",
       "    <tr style=\"text-align: right;\">\n",
       "      <th></th>\n",
       "      <th>Compound_SMILES</th>\n",
       "      <th>Compound_InchiKeys</th>\n",
       "      <th>Compound_Name</th>\n",
       "      <th>UniProt_Id</th>\n",
       "      <th>Entrez_Gene_Symbol</th>\n",
       "      <th>DiscoveRx_Gene_Symbol</th>\n",
       "      <th>scenario</th>\n",
       "    </tr>\n",
       "  </thead>\n",
       "  <tbody>\n",
       "    <tr>\n",
       "      <th>0</th>\n",
       "      <td>CS(=O)(=O)Nc1cccc(c1)-c1ccc2c(NC(=O)C3CC3)n[nH...</td>\n",
       "      <td>FUQAHBLEGDXXKS-UHFFFAOYSA-N</td>\n",
       "      <td>SB-742864</td>\n",
       "      <td>Q2M2I8</td>\n",
       "      <td>AAK1</td>\n",
       "      <td>AAK1</td>\n",
       "      <td>2</td>\n",
       "    </tr>\n",
       "    <tr>\n",
       "      <th>1</th>\n",
       "      <td>CC(C)OC(N(CC1)CCN1C2=NC3=C(C4=CN=C(C(F)(F)F)C=...</td>\n",
       "      <td>NDDGTHBFQLPYJL-UHFFFAOYSA-N</td>\n",
       "      <td>NK-92</td>\n",
       "      <td>Q2M2I8</td>\n",
       "      <td>AAK1</td>\n",
       "      <td>AAK1</td>\n",
       "      <td>2</td>\n",
       "    </tr>\n",
       "    <tr>\n",
       "      <th>2</th>\n",
       "      <td>O=S(NC1=CC(C2=CC=C(C(NC(C3CC3)=O)=NN4)C4=C2)=C...</td>\n",
       "      <td>UCBIQZUJJSVQHL-UHFFFAOYSA-N</td>\n",
       "      <td>UNC-AA-1-0013</td>\n",
       "      <td>Q2M2I8</td>\n",
       "      <td>AAK1</td>\n",
       "      <td>AAK1</td>\n",
       "      <td>2</td>\n",
       "    </tr>\n",
       "    <tr>\n",
       "      <th>3</th>\n",
       "      <td>O=C(C1CC1)NC2=NNC3=C2C=CC(C4=CC=CC(NS(N(C)CC)(...</td>\n",
       "      <td>NKCMEGZSWOVKIL-UHFFFAOYSA-N</td>\n",
       "      <td>UNC-AA-1-0017</td>\n",
       "      <td>Q2M2I8</td>\n",
       "      <td>AAK1</td>\n",
       "      <td>AAK1</td>\n",
       "      <td>2</td>\n",
       "    </tr>\n",
       "    <tr>\n",
       "      <th>4</th>\n",
       "      <td>[nH]1c2c(c(c1)C(=O)NC)cc(cc2)Nc3nc(ccn3)-c4ncccc4</td>\n",
       "      <td>YNYMPWKHPFKBTO-UHFFFAOYSA-N</td>\n",
       "      <td>BI01078627</td>\n",
       "      <td>P00519</td>\n",
       "      <td>ABL1</td>\n",
       "      <td>ABL1-nonphosphorylated</td>\n",
       "      <td>2</td>\n",
       "    </tr>\n",
       "  </tbody>\n",
       "</table>\n",
       "</div>"
      ],
      "text/plain": [
       "                                     Compound_SMILES  \\\n",
       "0  CS(=O)(=O)Nc1cccc(c1)-c1ccc2c(NC(=O)C3CC3)n[nH...   \n",
       "1  CC(C)OC(N(CC1)CCN1C2=NC3=C(C4=CN=C(C(F)(F)F)C=...   \n",
       "2  O=S(NC1=CC(C2=CC=C(C(NC(C3CC3)=O)=NN4)C4=C2)=C...   \n",
       "3  O=C(C1CC1)NC2=NNC3=C2C=CC(C4=CC=CC(NS(N(C)CC)(...   \n",
       "4  [nH]1c2c(c(c1)C(=O)NC)cc(cc2)Nc3nc(ccn3)-c4ncccc4   \n",
       "\n",
       "            Compound_InchiKeys  Compound_Name UniProt_Id Entrez_Gene_Symbol  \\\n",
       "0  FUQAHBLEGDXXKS-UHFFFAOYSA-N      SB-742864     Q2M2I8               AAK1   \n",
       "1  NDDGTHBFQLPYJL-UHFFFAOYSA-N          NK-92     Q2M2I8               AAK1   \n",
       "2  UCBIQZUJJSVQHL-UHFFFAOYSA-N  UNC-AA-1-0013     Q2M2I8               AAK1   \n",
       "3  NKCMEGZSWOVKIL-UHFFFAOYSA-N  UNC-AA-1-0017     Q2M2I8               AAK1   \n",
       "4  YNYMPWKHPFKBTO-UHFFFAOYSA-N     BI01078627     P00519               ABL1   \n",
       "\n",
       "    DiscoveRx_Gene_Symbol  scenario  \n",
       "0                    AAK1         2  \n",
       "1                    AAK1         2  \n",
       "2                    AAK1         2  \n",
       "3                    AAK1         2  \n",
       "4  ABL1-nonphosphorylated         2  "
      ]
     },
     "execution_count": 13,
     "metadata": {},
     "output_type": "execute_result"
    }
   ],
   "source": [
    "data_test.head()"
   ]
  },
  {
   "cell_type": "code",
   "execution_count": 14,
   "metadata": {},
   "outputs": [
    {
     "data": {
      "text/plain": [
       "2    404\n",
       "1     17\n",
       "4      7\n",
       "3      2\n",
       "Name: scenario, dtype: int64"
      ]
     },
     "execution_count": 14,
     "metadata": {},
     "output_type": "execute_result"
    }
   ],
   "source": [
    "data_test.scenario.value_counts()"
   ]
  }
 ],
 "metadata": {
  "kernelspec": {
   "display_name": "Python 3",
   "language": "python",
   "name": "python3"
  },
  "language_info": {
   "codemirror_mode": {
    "name": "ipython",
    "version": 3
   },
   "file_extension": ".py",
   "mimetype": "text/x-python",
   "name": "python",
   "nbconvert_exporter": "python",
   "pygments_lexer": "ipython3",
   "version": "3.4.5"
  }
 },
 "nbformat": 4,
 "nbformat_minor": 2
}
