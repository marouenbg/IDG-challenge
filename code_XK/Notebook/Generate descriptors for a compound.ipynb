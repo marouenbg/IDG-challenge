{
 "cells": [
  {
   "cell_type": "code",
   "execution_count": 1,
   "metadata": {},
   "outputs": [],
   "source": [
    "from chembl_webresource_client.new_client import new_client\n",
    "from chembl_webresource_client.utils import utils\n",
    "import json\n",
    "import pandas as pd\n",
    "from tqdm import tqdm\n",
    "from paths import path_data, path_out_data\n",
    "import numpy as np\n",
    "import time"
   ]
  },
  {
   "cell_type": "code",
   "execution_count": 2,
   "metadata": {},
   "outputs": [],
   "source": [
    "file_test = \"round_1_template.csv\"\n",
    "data_test = pd.read_csv(\"%s/%s\"%(path_data,file_test))\n",
    "\n",
    "data = pd.read_csv(\"%s/%s\"%(path_out_data,\"DTC_train.csv\"))\n",
    "InchiKeys = data.standard_inchi_key.unique()\n"
   ]
  },
  {
   "cell_type": "code",
   "execution_count": 3,
   "metadata": {},
   "outputs": [],
   "source": [
    "len(InchiKeys)\n",
    "bad_keys = []"
   ]
  },
  {
   "cell_type": "code",
   "execution_count": 4,
   "metadata": {
    "scrolled": false
   },
   "outputs": [
    {
     "name": "stderr",
     "output_type": "stream",
     "text": [
      "100%|██████████| 967/967 [1:05:05<00:00,  4.38s/it]\n"
     ]
    }
   ],
   "source": [
    "pbar = tqdm(enumerate(InchiKeys,1), total = len(InchiKeys))\n",
    "descriptor_all = {}\n",
    "molecule = new_client.molecule\n",
    "\n",
    "for i, InchiKey in pbar: \n",
    "    try:\n",
    "        SMILE = molecule.get(InchiKey)['molecule_structures']['canonical_smiles']\n",
    "\n",
    "        chemical = utils.smiles2ctab(SMILE)\n",
    "\n",
    "        log_p = json.loads(utils.logP(chemical))[0]\n",
    "        descriptors = json.loads(utils.descriptors(chemical))[0]\n",
    "        descriptors[\"log_p\"] = log_p\n",
    "\n",
    "        descriptor_all[InchiKey] =  descriptors\n",
    "    except:\n",
    "        bad_keys.append(InchiKey)\n",
    "    \n"
   ]
  },
  {
   "cell_type": "code",
   "execution_count": 7,
   "metadata": {},
   "outputs": [],
   "source": [
    "np.save(\"%s/descriptors/%s\"%(path_out_data,\"key_descriptor_train.npy\"), descriptor_all)"
   ]
  },
  {
   "cell_type": "code",
   "execution_count": 5,
   "metadata": {},
   "outputs": [
    {
     "data": {
      "text/plain": [
       "959"
      ]
     },
     "execution_count": 5,
     "metadata": {},
     "output_type": "execute_result"
    }
   ],
   "source": [
    "len(descriptor_all)"
   ]
  },
  {
   "cell_type": "code",
   "execution_count": 6,
   "metadata": {},
   "outputs": [
    {
     "data": {
      "text/plain": [
       "8"
      ]
     },
     "execution_count": 6,
     "metadata": {},
     "output_type": "execute_result"
    }
   ],
   "source": [
    "len(bad_keys)"
   ]
  },
  {
   "cell_type": "code",
   "execution_count": 8,
   "metadata": {},
   "outputs": [],
   "source": [
    "# read in test data\n",
    "file_test = \"round_1_template.csv\"\n",
    "data_test = pd.read_csv(\"%s/%s\"%(path_data,file_test))\n",
    "\n",
    "smiles = set(data_test.Compound_SMILES)\n",
    "bad_smiles = []"
   ]
  },
  {
   "cell_type": "code",
   "execution_count": 9,
   "metadata": {},
   "outputs": [
    {
     "name": "stderr",
     "output_type": "stream",
     "text": [
      "100%|██████████| 70/70 [00:00<00:00, 304.27it/s]\n"
     ]
    }
   ],
   "source": [
    "pbar = tqdm(enumerate(smiles,1), total = len(smiles))\n",
    "descriptor_all = {}\n",
    "molecule = new_client.molecule\n",
    "\n",
    "for i, smile in pbar: \n",
    "    try:\n",
    "        \n",
    "\n",
    "        chemical = utils.smiles2ctab(smile)\n",
    "\n",
    "        log_p = json.loads(utils.logP(chemical))[0]\n",
    "        descriptors = json.loads(utils.descriptors(chemical))[0]\n",
    "        descriptors[\"log_p\"] = log_p\n",
    "\n",
    "        descriptor_all[smile] =  descriptors\n",
    "    except:\n",
    "        bad_smiles.append(smile)\n"
   ]
  },
  {
   "cell_type": "code",
   "execution_count": 10,
   "metadata": {},
   "outputs": [],
   "source": [
    "np.save(\"%s/descriptors/%s\"%(path_out_data,\"smile_descriptor_test.npy\"), descriptor_all)"
   ]
  },
  {
   "cell_type": "code",
   "execution_count": null,
   "metadata": {},
   "outputs": [],
   "source": []
  }
 ],
 "metadata": {
  "kernelspec": {
   "display_name": "Python 3",
   "language": "python",
   "name": "python3"
  },
  "language_info": {
   "codemirror_mode": {
    "name": "ipython",
    "version": 3
   },
   "file_extension": ".py",
   "mimetype": "text/x-python",
   "name": "python",
   "nbconvert_exporter": "python",
   "pygments_lexer": "ipython3",
   "version": "3.4.5"
  }
 },
 "nbformat": 4,
 "nbformat_minor": 2
}
