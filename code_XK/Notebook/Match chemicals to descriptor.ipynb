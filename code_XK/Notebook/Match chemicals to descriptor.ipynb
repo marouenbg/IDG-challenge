{
 "cells": [
  {
   "cell_type": "code",
   "execution_count": 1,
   "metadata": {},
   "outputs": [],
   "source": [
    "import pandas as pd\n",
    "import os\n",
    "import numpy as np\n",
    "from paths import path_data, path_out_data"
   ]
  },
  {
   "cell_type": "code",
   "execution_count": 2,
   "metadata": {},
   "outputs": [],
   "source": [
    "file_train = \"DTC_train_smile.csv\"\n",
    "file_descriptor_inchikey = \"key_descriptor_train.npy\"\n",
    "\n",
    "data_train = pd.read_csv(\"%s/%s\"%(path_out_data,file_train))\n",
    "descriptor_inchikey = np.load(\"%s/descriptors/%s\"%(path_out_data,file_descriptor_inchikey)).item()\n",
    "\n",
    "data_train[\"descriptors\"] = data_train.standard_inchi_key.map(descriptor_inchikey)"
   ]
  },
  {
   "cell_type": "code",
   "execution_count": 3,
   "metadata": {},
   "outputs": [],
   "source": [
    "# mask rows without descriptors\n",
    "mask = ~data_train.descriptors.isna()\n",
    "data_complete = data_train[mask].loc[:,[\"standard_inchi_key\",\"target_id\",\"Kd\",\"descriptors\"]].copy()"
   ]
  },
  {
   "cell_type": "code",
   "execution_count": 4,
   "metadata": {
    "scrolled": true
   },
   "outputs": [],
   "source": [
    "train_expand = pd.concat([data_complete.drop(['descriptors'], axis=1), data_complete['descriptors'].apply(pd.Series)], axis=1)"
   ]
  },
  {
   "cell_type": "code",
   "execution_count": 5,
   "metadata": {},
   "outputs": [],
   "source": [
    "#match testing data to descriptors\n",
    "file_test = \"round_1_template.csv\"\n",
    "data_test = pd.read_csv(\"%s/%s\"%(path_data,file_test))"
   ]
  },
  {
   "cell_type": "markdown",
   "metadata": {},
   "source": [
    "#check the overlapping between testing and training\n",
    "\n",
    "inchikey_unique = set(train_expand.standard_inchi_key)\n",
    "sum(data_test.Compound_InchiKeys.apply(lambda x: x in inchikey_unique))\n",
    "\n",
    "protein_unique = set(train_expand.target_id)\n",
    "sum(data_test.UniProt_Id.apply(lambda x: x in protein_unique))"
   ]
  },
  {
   "cell_type": "code",
   "execution_count": 6,
   "metadata": {},
   "outputs": [],
   "source": [
    "descriptor_test = np.load(\"%s/descriptors/smile_descriptor_test.npy\"%(path_out_data)).item()\n",
    "#map SMILE to descriptors\n",
    "data_test[\"descriptors\"] = data_test.Compound_SMILES.map(descriptor_test)"
   ]
  },
  {
   "cell_type": "code",
   "execution_count": 7,
   "metadata": {},
   "outputs": [],
   "source": [
    "# slice the three columns only\n",
    "temp = data_test.loc[:,[\"Compound_InchiKeys\",\"UniProt_Id\",\"descriptors\"]]\n",
    "#expand the descriptor column\n",
    "test_expand = pd.concat([temp.drop(['descriptors'], axis=1), temp['descriptors'].apply(pd.Series)], axis=1)\n",
    "#rename the first two columns of testing data\n",
    "test_expand.rename(columns={'Compound_InchiKeys':'standard_inchi_key',\n",
    "                           'UniProt_Id':'target_id'}, inplace=True)"
   ]
  },
  {
   "cell_type": "code",
   "execution_count": 8,
   "metadata": {},
   "outputs": [],
   "source": [
    "#merge train and test\n",
    "train_test = pd.concat([train_expand,test_expand], axis = 0)\n",
    "\n",
    "#move the special three columns to the left for easier index later\n",
    "columns = ['Kd','standard_inchi_key','target_id']\n",
    "train_test = pd.concat([train_test.loc[:,columns], train_test.drop(columns, axis=1)], axis=1)"
   ]
  },
  {
   "cell_type": "code",
   "execution_count": 9,
   "metadata": {},
   "outputs": [
    {
     "data": {
      "text/html": [
       "<div>\n",
       "<style scoped>\n",
       "    .dataframe tbody tr th:only-of-type {\n",
       "        vertical-align: middle;\n",
       "    }\n",
       "\n",
       "    .dataframe tbody tr th {\n",
       "        vertical-align: top;\n",
       "    }\n",
       "\n",
       "    .dataframe thead th {\n",
       "        text-align: right;\n",
       "    }\n",
       "</style>\n",
       "<table border=\"1\" class=\"dataframe\">\n",
       "  <thead>\n",
       "    <tr style=\"text-align: right;\">\n",
       "      <th></th>\n",
       "      <th>Kd</th>\n",
       "      <th>standard_inchi_key</th>\n",
       "      <th>target_id</th>\n",
       "      <th>BalabanJ</th>\n",
       "      <th>BertzCT</th>\n",
       "      <th>Chi0</th>\n",
       "      <th>Chi0n</th>\n",
       "      <th>Chi0v</th>\n",
       "      <th>Chi1</th>\n",
       "      <th>Chi1n</th>\n",
       "      <th>...</th>\n",
       "      <th>fr_sulfonamd</th>\n",
       "      <th>fr_sulfone</th>\n",
       "      <th>fr_term_acetylene</th>\n",
       "      <th>fr_tetrazole</th>\n",
       "      <th>fr_thiazole</th>\n",
       "      <th>fr_thiocyan</th>\n",
       "      <th>fr_thiophene</th>\n",
       "      <th>fr_unbrch_alkane</th>\n",
       "      <th>fr_urea</th>\n",
       "      <th>log_p</th>\n",
       "    </tr>\n",
       "  </thead>\n",
       "  <tbody>\n",
       "    <tr>\n",
       "      <th>0</th>\n",
       "      <td>10000.000000</td>\n",
       "      <td>AAKJLRGGTJKAMG-UHFFFAOYSA-N</td>\n",
       "      <td>O00329</td>\n",
       "      <td>1.956917</td>\n",
       "      <td>1001.004202</td>\n",
       "      <td>20.476481</td>\n",
       "      <td>16.47465</td>\n",
       "      <td>16.47465</td>\n",
       "      <td>14.245045</td>\n",
       "      <td>9.1078</td>\n",
       "      <td>...</td>\n",
       "      <td>0</td>\n",
       "      <td>0</td>\n",
       "      <td>1</td>\n",
       "      <td>0</td>\n",
       "      <td>0</td>\n",
       "      <td>0</td>\n",
       "      <td>0</td>\n",
       "      <td>2</td>\n",
       "      <td>0</td>\n",
       "      <td>3.4051</td>\n",
       "    </tr>\n",
       "    <tr>\n",
       "      <th>1</th>\n",
       "      <td>10000.000000</td>\n",
       "      <td>AAKJLRGGTJKAMG-UHFFFAOYSA-N</td>\n",
       "      <td>O00750</td>\n",
       "      <td>1.956917</td>\n",
       "      <td>1001.004202</td>\n",
       "      <td>20.476481</td>\n",
       "      <td>16.47465</td>\n",
       "      <td>16.47465</td>\n",
       "      <td>14.245045</td>\n",
       "      <td>9.1078</td>\n",
       "      <td>...</td>\n",
       "      <td>0</td>\n",
       "      <td>0</td>\n",
       "      <td>1</td>\n",
       "      <td>0</td>\n",
       "      <td>0</td>\n",
       "      <td>0</td>\n",
       "      <td>0</td>\n",
       "      <td>2</td>\n",
       "      <td>0</td>\n",
       "      <td>3.4051</td>\n",
       "    </tr>\n",
       "    <tr>\n",
       "      <th>2</th>\n",
       "      <td>10000.000000</td>\n",
       "      <td>AAKJLRGGTJKAMG-UHFFFAOYSA-N</td>\n",
       "      <td>O14730</td>\n",
       "      <td>1.956917</td>\n",
       "      <td>1001.004202</td>\n",
       "      <td>20.476481</td>\n",
       "      <td>16.47465</td>\n",
       "      <td>16.47465</td>\n",
       "      <td>14.245045</td>\n",
       "      <td>9.1078</td>\n",
       "      <td>...</td>\n",
       "      <td>0</td>\n",
       "      <td>0</td>\n",
       "      <td>1</td>\n",
       "      <td>0</td>\n",
       "      <td>0</td>\n",
       "      <td>0</td>\n",
       "      <td>0</td>\n",
       "      <td>2</td>\n",
       "      <td>0</td>\n",
       "      <td>3.4051</td>\n",
       "    </tr>\n",
       "    <tr>\n",
       "      <th>3</th>\n",
       "      <td>10000.000000</td>\n",
       "      <td>AAKJLRGGTJKAMG-UHFFFAOYSA-N</td>\n",
       "      <td>O14920</td>\n",
       "      <td>1.956917</td>\n",
       "      <td>1001.004202</td>\n",
       "      <td>20.476481</td>\n",
       "      <td>16.47465</td>\n",
       "      <td>16.47465</td>\n",
       "      <td>14.245045</td>\n",
       "      <td>9.1078</td>\n",
       "      <td>...</td>\n",
       "      <td>0</td>\n",
       "      <td>0</td>\n",
       "      <td>1</td>\n",
       "      <td>0</td>\n",
       "      <td>0</td>\n",
       "      <td>0</td>\n",
       "      <td>0</td>\n",
       "      <td>2</td>\n",
       "      <td>0</td>\n",
       "      <td>3.4051</td>\n",
       "    </tr>\n",
       "    <tr>\n",
       "      <th>4</th>\n",
       "      <td>173.338571</td>\n",
       "      <td>AAKJLRGGTJKAMG-UHFFFAOYSA-N</td>\n",
       "      <td>O14976</td>\n",
       "      <td>1.956917</td>\n",
       "      <td>1001.004202</td>\n",
       "      <td>20.476481</td>\n",
       "      <td>16.47465</td>\n",
       "      <td>16.47465</td>\n",
       "      <td>14.245045</td>\n",
       "      <td>9.1078</td>\n",
       "      <td>...</td>\n",
       "      <td>0</td>\n",
       "      <td>0</td>\n",
       "      <td>1</td>\n",
       "      <td>0</td>\n",
       "      <td>0</td>\n",
       "      <td>0</td>\n",
       "      <td>0</td>\n",
       "      <td>2</td>\n",
       "      <td>0</td>\n",
       "      <td>3.4051</td>\n",
       "    </tr>\n",
       "  </tbody>\n",
       "</table>\n",
       "<p>5 rows × 201 columns</p>\n",
       "</div>"
      ],
      "text/plain": [
       "             Kd           standard_inchi_key target_id  BalabanJ      BertzCT  \\\n",
       "0  10000.000000  AAKJLRGGTJKAMG-UHFFFAOYSA-N    O00329  1.956917  1001.004202   \n",
       "1  10000.000000  AAKJLRGGTJKAMG-UHFFFAOYSA-N    O00750  1.956917  1001.004202   \n",
       "2  10000.000000  AAKJLRGGTJKAMG-UHFFFAOYSA-N    O14730  1.956917  1001.004202   \n",
       "3  10000.000000  AAKJLRGGTJKAMG-UHFFFAOYSA-N    O14920  1.956917  1001.004202   \n",
       "4    173.338571  AAKJLRGGTJKAMG-UHFFFAOYSA-N    O14976  1.956917  1001.004202   \n",
       "\n",
       "        Chi0     Chi0n     Chi0v       Chi1   Chi1n   ...    fr_sulfonamd  \\\n",
       "0  20.476481  16.47465  16.47465  14.245045  9.1078   ...               0   \n",
       "1  20.476481  16.47465  16.47465  14.245045  9.1078   ...               0   \n",
       "2  20.476481  16.47465  16.47465  14.245045  9.1078   ...               0   \n",
       "3  20.476481  16.47465  16.47465  14.245045  9.1078   ...               0   \n",
       "4  20.476481  16.47465  16.47465  14.245045  9.1078   ...               0   \n",
       "\n",
       "   fr_sulfone  fr_term_acetylene  fr_tetrazole  fr_thiazole  fr_thiocyan  \\\n",
       "0           0                  1             0            0            0   \n",
       "1           0                  1             0            0            0   \n",
       "2           0                  1             0            0            0   \n",
       "3           0                  1             0            0            0   \n",
       "4           0                  1             0            0            0   \n",
       "\n",
       "   fr_thiophene  fr_unbrch_alkane  fr_urea   log_p  \n",
       "0             0                 2        0  3.4051  \n",
       "1             0                 2        0  3.4051  \n",
       "2             0                 2        0  3.4051  \n",
       "3             0                 2        0  3.4051  \n",
       "4             0                 2        0  3.4051  \n",
       "\n",
       "[5 rows x 201 columns]"
      ]
     },
     "execution_count": 9,
     "metadata": {},
     "output_type": "execute_result"
    }
   ],
   "source": [
    "train_test.head()"
   ]
  },
  {
   "cell_type": "code",
   "execution_count": 10,
   "metadata": {},
   "outputs": [
    {
     "data": {
      "text/plain": [
       "24"
      ]
     },
     "execution_count": 10,
     "metadata": {},
     "output_type": "execute_result"
    }
   ],
   "source": [
    "# check the number of constant column\n",
    "sum(train_test.apply(lambda x: max(x)==min(x), axis =0))"
   ]
  },
  {
   "cell_type": "code",
   "execution_count": 11,
   "metadata": {
    "scrolled": true
   },
   "outputs": [],
   "source": [
    "# remove constant columns\n",
    "train_test = train_test.loc[:,train_test.apply(pd.Series.nunique) != 1]\n",
    "\n",
    "#save the train_test data\n",
    "train_test.to_csv(\"%s/train_test.csv\"%(path_out_data), index=False)"
   ]
  },
  {
   "cell_type": "code",
   "execution_count": 13,
   "metadata": {},
   "outputs": [],
   "source": [
    "# to do: fill the missing features in Mauroen's feature (the testing features are missing)\n",
    "file_mauroen = \"Chem_descriptor_Marouen.csv\"\n",
    "feature_mauroen = pd.read_csv(\"%s/%s\"%(path_out_data,file_mauroen))"
   ]
  },
  {
   "cell_type": "code",
   "execution_count": 14,
   "metadata": {
    "scrolled": true
   },
   "outputs": [
    {
     "data": {
      "text/plain": [
       "17031"
      ]
     },
     "execution_count": 14,
     "metadata": {},
     "output_type": "execute_result"
    }
   ],
   "source": [
    "keys_unique = set(feature_mauroen.iloc[:,0])\n",
    "sum(train_test.standard_inchi_key.apply(lambda x: x in keys_unique))"
   ]
  },
  {
   "cell_type": "code",
   "execution_count": 15,
   "metadata": {},
   "outputs": [
    {
     "data": {
      "text/plain": [
       "19"
      ]
     },
     "execution_count": 15,
     "metadata": {},
     "output_type": "execute_result"
    }
   ],
   "source": [
    "sum(test_expand.standard_inchi_key.apply(lambda x: x in keys_unique))"
   ]
  },
  {
   "cell_type": "code",
   "execution_count": 16,
   "metadata": {},
   "outputs": [
    {
     "data": {
      "text/plain": [
       "(430, 200)"
      ]
     },
     "execution_count": 16,
     "metadata": {},
     "output_type": "execute_result"
    }
   ],
   "source": [
    "test_expand.shape"
   ]
  },
  {
   "cell_type": "code",
   "execution_count": null,
   "metadata": {},
   "outputs": [],
   "source": []
  }
 ],
 "metadata": {
  "kernelspec": {
   "display_name": "Python 3",
   "language": "python",
   "name": "python3"
  },
  "language_info": {
   "codemirror_mode": {
    "name": "ipython",
    "version": 3
   },
   "file_extension": ".py",
   "mimetype": "text/x-python",
   "name": "python",
   "nbconvert_exporter": "python",
   "pygments_lexer": "ipython3",
   "version": "3.4.5"
  }
 },
 "nbformat": 4,
 "nbformat_minor": 2
}
