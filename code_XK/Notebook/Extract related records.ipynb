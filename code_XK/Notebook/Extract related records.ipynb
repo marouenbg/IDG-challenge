{
 "cells": [
  {
   "cell_type": "code",
   "execution_count": null,
   "metadata": {
    "collapsed": true
   },
   "outputs": [],
   "source": [
    "# extract rows in DTC related to the compounds and targets in the round_1_template.csv"
   ]
  },
  {
   "cell_type": "code",
   "execution_count": 1,
   "metadata": {
    "collapsed": true
   },
   "outputs": [],
   "source": [
    "import pandas as pd\n",
    "from paths import *\n",
    "import functools"
   ]
  },
  {
   "cell_type": "code",
   "execution_count": 2,
   "metadata": {
    "collapsed": true
   },
   "outputs": [],
   "source": [
    "file_DTC = \"DtcDrugTargetInteractions.csv\"\n",
    "file_test = \"round_1_template.csv\"\n",
    "\n",
    "DTC = pd.read_csv(\"%s/%s\"%(path_data,file_DTC))\n",
    "data_test = pd.read_csv(\"%s/%s\"%(path_data,file_test))"
   ]
  },
  {
   "cell_type": "code",
   "execution_count": 52,
   "metadata": {
    "collapsed": true
   },
   "outputs": [],
   "source": [
    "# a dict describing the corresponding columns in DTC and round_1_template\n",
    "match_columns = { \"Compound_InchiKeys\": \"standard_inchi_key\",\n",
    "                 \"Compound_Name\":\"compound_name\",\n",
    "                 \"UniProt_Id\": \"target_id\",\n",
    "                 \"Entrez_Gene_Symbol\": \"gene_names\"  \n",
    "}"
   ]
  },
  {
   "cell_type": "code",
   "execution_count": 53,
   "metadata": {
    "collapsed": true
   },
   "outputs": [],
   "source": [
    "masks = []\n",
    "for key, value in match_columns.items():\n",
    "    value_unique  = set(data_test[key].unique())\n",
    "    mask = DTC[value].apply(lambda x: x in value_unique)\n",
    "    masks.append(mask)\n",
    "\n",
    "mask_merge = functools.reduce(lambda a,b: a | b, masks)"
   ]
  },
  {
   "cell_type": "code",
   "execution_count": 54,
   "metadata": {
    "collapsed": true,
    "scrolled": false
   },
   "outputs": [],
   "source": [
    "DTC[mask_merge].to_csv((\"%s/%s\"%(path_out_data,\"DTC_screened.csv\")), index = False)"
   ]
  }
 ],
 "metadata": {
  "kernelspec": {
   "display_name": "Python 3",
   "language": "python",
   "name": "python3"
  },
  "language_info": {
   "codemirror_mode": {
    "name": "ipython",
    "version": 3
   },
   "file_extension": ".py",
   "mimetype": "text/x-python",
   "name": "python",
   "nbconvert_exporter": "python",
   "pygments_lexer": "ipython3",
   "version": "3.6.1"
  }
 },
 "nbformat": 4,
 "nbformat_minor": 2
}
