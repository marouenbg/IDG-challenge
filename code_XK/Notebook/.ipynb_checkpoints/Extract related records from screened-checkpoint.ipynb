{
 "cells": [
  {
   "cell_type": "code",
   "execution_count": 1,
   "metadata": {
    "collapsed": true
   },
   "outputs": [],
   "source": [
    "import pandas as pd\n",
    "import csv\n",
    "from paths import *"
   ]
  },
  {
   "cell_type": "code",
   "execution_count": 2,
   "metadata": {
    "collapsed": true
   },
   "outputs": [],
   "source": [
    "file_DTC = \"match_line.csv\"\n",
    "file_test = \"round_1_template.csv\""
   ]
  },
  {
   "cell_type": "code",
   "execution_count": 6,
   "metadata": {},
   "outputs": [
    {
     "name": "stderr",
     "output_type": "stream",
     "text": [
      "/home/wxk/anaconda2/envs/py3/lib/python3.6/site-packages/IPython/core/interactiveshell.py:2717: DtypeWarning: Columns (8,18,25) have mixed types. Specify dtype option on import or set low_memory=False.\n",
      "  interactivity=interactivity, compiler=compiler, result=result)\n"
     ]
    }
   ],
   "source": [
    "DTC = pd.read_csv(\"%s/%s\"%(path_out_data,file_DTC),header = None)\n",
    "data_test = pd.read_csv(\"%s/%s\"%(path_data,file_test))"
   ]
  },
  {
   "cell_type": "code",
   "execution_count": 12,
   "metadata": {},
   "outputs": [],
   "source": [
    "line_nums = DTC[0].str.split(':', 1, expand=True)[0]"
   ]
  },
  {
   "cell_type": "code",
   "execution_count": 16,
   "metadata": {},
   "outputs": [
    {
     "data": {
      "text/plain": [
       "(1317640, 32)"
      ]
     },
     "execution_count": 16,
     "metadata": {},
     "output_type": "execute_result"
    }
   ],
   "source": [
    "DTC.shape"
   ]
  },
  {
   "cell_type": "code",
   "execution_count": 15,
   "metadata": {},
   "outputs": [
    {
     "data": {
      "text/plain": [
       "450091"
      ]
     },
     "execution_count": 15,
     "metadata": {},
     "output_type": "execute_result"
    }
   ],
   "source": [
    "sum(~line_nums.duplicated())"
   ]
  },
  {
   "cell_type": "code",
   "execution_count": 4,
   "metadata": {
    "collapsed": true
   },
   "outputs": [],
   "source": [
    "target_unique = set(data_test.UniProt_Id.unique())\n",
    "compound_unique = set(data_test.Compound_InchiKeys.unique())"
   ]
  },
  {
   "cell_type": "code",
   "execution_count": 5,
   "metadata": {
    "collapsed": true,
    "scrolled": true
   },
   "outputs": [],
   "source": [
    "mask_target = DTC.target_id.apply(lambda x: x in target_unique)\n",
    "mask_compound = DTC.standard_inchi_key.apply(lambda x: x in compound_unique)\n",
    "mask = mask_compound | mask_target"
   ]
  },
  {
   "cell_type": "code",
   "execution_count": 6,
   "metadata": {
    "collapsed": true,
    "scrolled": false
   },
   "outputs": [],
   "source": [
    "DTC[mask].to_csv((\"%s/%s\"%(path_out_data,\"DTC_screened.csv\")), index = False)"
   ]
  },
  {
   "cell_type": "code",
   "execution_count": 8,
   "metadata": {},
   "outputs": [
    {
     "data": {
      "text/plain": [
       "Index(['compound_id', 'standard_inchi_key', 'compound_name', 'synonym',\n",
       "       'target_id', 'target_pref_name', 'gene_names', 'wildtype_or_mutant',\n",
       "       'mutation_info', 'pubmed_id', 'standard_type', 'standard_relation',\n",
       "       'standard_value', 'standard_units', 'ep_action_mode', 'assay_format',\n",
       "       'assaytype', 'assay_subtype', 'inhibitor_type', 'detection_tech',\n",
       "       'assay_cell_line', 'compound_concentration_value',\n",
       "       'compound_concentration_value_unit', 'substrate_type',\n",
       "       'substrate_relation', 'substrate_value', 'substrate_units',\n",
       "       'assay_description', 'title', 'journal', 'doc_type',\n",
       "       'annotation_comments'],\n",
       "      dtype='object')"
      ]
     },
     "execution_count": 8,
     "metadata": {},
     "output_type": "execute_result"
    }
   ],
   "source": [
    "DTC.columns"
   ]
  }
 ],
 "metadata": {
  "kernelspec": {
   "display_name": "Python 3",
   "language": "python",
   "name": "python3"
  },
  "language_info": {
   "codemirror_mode": {
    "name": "ipython",
    "version": 3
   },
   "file_extension": ".py",
   "mimetype": "text/x-python",
   "name": "python",
   "nbconvert_exporter": "python",
   "pygments_lexer": "ipython3",
   "version": "3.6.1"
  }
 },
 "nbformat": 4,
 "nbformat_minor": 2
}
