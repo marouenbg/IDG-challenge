{
 "cells": [
  {
   "cell_type": "code",
   "execution_count": 30,
   "metadata": {
    "collapsed": true
   },
   "outputs": [],
   "source": [
    "# This code is to extract the combination of compound and target which has a measured Kd\n"
   ]
  },
  {
   "cell_type": "code",
   "execution_count": 1,
   "metadata": {
    "collapsed": true
   },
   "outputs": [],
   "source": [
    "import pandas as pd\n",
    "from paths import *\n",
    "import matplotlib\n",
    "import matplotlib.pyplot as plt\n",
    "%matplotlib inline"
   ]
  },
  {
   "cell_type": "code",
   "execution_count": 2,
   "metadata": {
    "collapsed": true
   },
   "outputs": [],
   "source": [
    "file_DTC = \"DTC_screened.csv\"\n",
    "file_test = \"round_1_template.csv\""
   ]
  },
  {
   "cell_type": "code",
   "execution_count": 23,
   "metadata": {},
   "outputs": [
    {
     "name": "stderr",
     "output_type": "stream",
     "text": [
      "/home/wxk/anaconda2/envs/py3/lib/python3.6/site-packages/IPython/core/interactiveshell.py:2717: DtypeWarning: Columns (1,3,25) have mixed types. Specify dtype option on import or set low_memory=False.\n",
      "  interactivity=interactivity, compiler=compiler, result=result)\n"
     ]
    }
   ],
   "source": [
    "DTC = pd.read_csv(\"%s/%s\"%(path_out_data,file_DTC))\n",
    "data_test = pd.read_csv(\"%s/%s\"%(path_data,file_test))"
   ]
  },
  {
   "cell_type": "code",
   "execution_count": 24,
   "metadata": {
    "collapsed": true
   },
   "outputs": [],
   "source": [
    "mask_KD = DTC.standard_type.apply(lambda x: x in set([\"Kd\", \"KD\"]))\n",
    "mask_KD_value = ~ DTC.standard_value.isna()\n",
    "mask_KD_unit = DTC.standard_units == \"NM\"\n",
    "\n",
    "mask_KD = mask_KD & mask_KD_value  & mask_KD_unit"
   ]
  },
  {
   "cell_type": "code",
   "execution_count": 25,
   "metadata": {
    "collapsed": true
   },
   "outputs": [],
   "source": [
    "columns = [\"compound_id\", \"standard_inchi_key\",\"compound_name\", \n",
    "           \"target_id\",\"gene_names\",\"pubmed_id\", \n",
    "          \"standard_type\",\"standard_units\",\"standard_value\"]\n",
    "\n",
    "DTC = DTC[mask_KD][columns]"
   ]
  },
  {
   "cell_type": "code",
   "execution_count": 28,
   "metadata": {
    "scrolled": true
   },
   "outputs": [
    {
     "name": "stdout",
     "output_type": "stream",
     "text": [
      "27449\n",
      "27433\n",
      "26845\n",
      "28305\n",
      "28305\n",
      "28038\n",
      "28306\n",
      "28306\n",
      "28306\n"
     ]
    }
   ],
   "source": [
    "for c in DTC.columns:\n",
    "    print(sum(~DTC[c].isna()))"
   ]
  },
  {
   "cell_type": "code",
   "execution_count": 29,
   "metadata": {},
   "outputs": [
    {
     "data": {
      "text/plain": [
       "(28306, 9)"
      ]
     },
     "execution_count": 29,
     "metadata": {},
     "output_type": "execute_result"
    }
   ],
   "source": [
    "DTC.shape"
   ]
  },
  {
   "cell_type": "code",
   "execution_count": 8,
   "metadata": {
    "collapsed": true
   },
   "outputs": [],
   "source": [
    "InchiKeys_unique = set(data_test.Compound_InchiKeys.unique())\n",
    "target_unique = set(data_test.UniProt_Id.unique())"
   ]
  }
 ],
 "metadata": {
  "kernelspec": {
   "display_name": "Python 3",
   "language": "python",
   "name": "python3"
  },
  "language_info": {
   "codemirror_mode": {
    "name": "ipython",
    "version": 3
   },
   "file_extension": ".py",
   "mimetype": "text/x-python",
   "name": "python",
   "nbconvert_exporter": "python",
   "pygments_lexer": "ipython3",
   "version": "3.6.1"
  }
 },
 "nbformat": 4,
 "nbformat_minor": 2
}
